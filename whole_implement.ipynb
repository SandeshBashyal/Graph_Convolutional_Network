{
 "cells": [
  {
   "cell_type": "code",
   "execution_count": 2,
   "metadata": {},
   "outputs": [],
   "source": [
    "from torch_geometric.datasets import Planetoid\n",
    "import numpy as np\n",
    "import torch\n",
    "import torch.nn.functional as F\n",
    "from torch_geometric.nn import GCNConv\n",
    "# from sklearn.metrics import f1_score\n",
    "# from sklearn.metrics import roc_curve\n",
    "# from sklearn.metrics import auc\n",
    "# from sklearn.preprocessing import label_binarize\n",
    "import matplotlib.pyplot as plt"
   ]
  },
  {
   "cell_type": "code",
   "execution_count": 3,
   "metadata": {},
   "outputs": [
    {
     "name": "stderr",
     "output_type": "stream",
     "text": [
      "Downloading https://github.com/kimiyoung/planetoid/raw/master/data/ind.citeseer.x\n",
      "Downloading https://github.com/kimiyoung/planetoid/raw/master/data/ind.citeseer.tx\n",
      "Downloading https://github.com/kimiyoung/planetoid/raw/master/data/ind.citeseer.allx\n",
      "Downloading https://github.com/kimiyoung/planetoid/raw/master/data/ind.citeseer.y\n",
      "Downloading https://github.com/kimiyoung/planetoid/raw/master/data/ind.citeseer.ty\n",
      "Downloading https://github.com/kimiyoung/planetoid/raw/master/data/ind.citeseer.ally\n",
      "Downloading https://github.com/kimiyoung/planetoid/raw/master/data/ind.citeseer.graph\n",
      "Downloading https://github.com/kimiyoung/planetoid/raw/master/data/ind.citeseer.test.index\n",
      "Processing...\n"
     ]
    },
    {
     "name": "stdout",
     "output_type": "stream",
     "text": [
      "Citeseer()\n",
      "number of graphs:\t\t 1\n",
      "number of classes:\t\t 6\n",
      "number of classes:\t\t [0 1 2 3 4 5]\n",
      "number of node features:\t 3703\n",
      "number of edge features:\t 0\n",
      "X shape:  torch.Size([3327, 3703])\n",
      "Edge shape:  torch.Size([2, 9104])\n",
      "Y shape:  torch.Size([3327])\n"
     ]
    },
    {
     "name": "stderr",
     "output_type": "stream",
     "text": [
      "Done!\n"
     ]
    }
   ],
   "source": [
    "dataset = Planetoid(root='.', name='Citeseer')\n",
    "data = dataset[0]\n",
    "print(dataset)\n",
    "print(\"number of graphs:\\t\\t\",len(dataset))\n",
    "print(\"number of classes:\\t\\t\",dataset.num_classes)\n",
    "print(\"number of classes:\\t\\t\",np.unique(data.y))\n",
    "print(\"number of node features:\\t\",data.num_node_features)\n",
    "print(\"number of edge features:\\t\",data.num_edge_features)\n",
    "print(\"X shape: \", data.x.shape)\n",
    "print(\"Edge shape: \", data.edge_index.shape)\n",
    "print(\"Y shape: \", data.y.shape)"
   ]
  },
  {
   "cell_type": "code",
   "execution_count": 4,
   "metadata": {},
   "outputs": [],
   "source": [
    "class GCN(torch.nn.Module):\n",
    "    def __init__(self):\n",
    "        super().__init__()\n",
    "        self.conv1 = GCNConv(dataset.num_node_features, 16)\n",
    "        self.conv2 = GCNConv(16, dataset.num_classes) \n",
    "\n",
    "    def forward(self, data):\n",
    "        x, edge_index = data.x, data.edge_index \n",
    "\n",
    "        x = self.conv1(x, edge_index) \n",
    "        x = F.relu(x) \n",
    "        x = F.dropout(x, training=self.training)\n",
    "        x = self.conv2(x, edge_index) \n",
    "        return F.log_softmax(x, dim=1)\n"
   ]
  },
  {
   "cell_type": "code",
   "execution_count": 5,
   "metadata": {},
   "outputs": [
    {
     "name": "stdout",
     "output_type": "stream",
     "text": [
      "Graph Convolutional Network (GCN): \n",
      "GCN(\n",
      "  (conv1): GCNConv(3703, 16)\n",
      "  (conv2): GCNConv(16, 6)\n",
      ")\n"
     ]
    }
   ],
   "source": [
    "\n",
    "device = torch.device('cuda' if torch.cuda.is_available() else 'cpu')\n",
    "model = GCN().to(device)\n",
    "data = dataset[0].to(device)\n",
    "optimizer = torch.optim.Adam(model.parameters(), lr=0.01, weight_decay=5e-4)\n",
    "num_epoch = 200\n",
    "print(f'Graph Convolutional Network (GCN): \\n{GCN()}')"
   ]
  },
  {
   "cell_type": "code",
   "execution_count": 8,
   "metadata": {},
   "outputs": [
    {
     "name": "stdout",
     "output_type": "stream",
     "text": [
      "Epoch: 10, Loss: 0.0186, Training Acc: 1.0000\n",
      "Epoch: 20, Loss: 0.0173, Training Acc: 1.0000\n",
      "Epoch: 30, Loss: 0.0294, Training Acc: 0.9917\n",
      "Epoch: 40, Loss: 0.0195, Training Acc: 0.9917\n",
      "Epoch: 50, Loss: 0.0236, Training Acc: 0.9917\n",
      "Epoch: 60, Loss: 0.0182, Training Acc: 0.9917\n",
      "Epoch: 70, Loss: 0.0254, Training Acc: 0.9917\n",
      "Epoch: 80, Loss: 0.0381, Training Acc: 0.9917\n",
      "Epoch: 90, Loss: 0.0163, Training Acc: 1.0000\n",
      "Epoch: 100, Loss: 0.0240, Training Acc: 0.9917\n",
      "Epoch: 110, Loss: 0.0234, Training Acc: 1.0000\n",
      "Epoch: 120, Loss: 0.0101, Training Acc: 1.0000\n",
      "Epoch: 130, Loss: 0.0360, Training Acc: 0.9917\n",
      "Epoch: 140, Loss: 0.0151, Training Acc: 1.0000\n",
      "Epoch: 150, Loss: 0.0365, Training Acc: 0.9917\n",
      "Epoch: 160, Loss: 0.0126, Training Acc: 1.0000\n",
      "Epoch: 170, Loss: 0.0248, Training Acc: 1.0000\n",
      "Epoch: 180, Loss: 0.0366, Training Acc: 0.9917\n",
      "Epoch: 190, Loss: 0.0211, Training Acc: 1.0000\n",
      "Epoch: 200, Loss: 0.0254, Training Acc: 1.0000\n",
      "Accuracy: 0.6830\n"
     ]
    }
   ],
   "source": [
    "\n",
    "model.train()\n",
    "for epoch in range(num_epoch):\n",
    "    optimizer.zero_grad()\n",
    "    out = model(data)\n",
    "    loss = F.nll_loss(out[data.train_mask], data.y[data.train_mask]) \n",
    "    correct = (out.argmax(dim=1)[data.train_mask] == data.y[data.train_mask]).sum() \n",
    "    acc = int(correct) / int(data.train_mask.sum())\n",
    "    loss.backward() \n",
    "    optimizer.step() \n",
    "    if (epoch+1) % 10 == 0:\n",
    "        print('Epoch: {}, Loss: {:.4f}, Training Acc: {:.4f}'.format(epoch+1, loss.item(), acc))\n",
    "\n",
    "model.eval()\n",
    "with torch.no_grad():\n",
    "    pred1 = model(data)\n",
    "    pred = pred1.argmax(dim=1) \n",
    "    correct = (pred[data.test_mask] == data.y[data.test_mask]).sum() \n",
    "    acc = int(correct) / int(data.test_mask.sum())\n",
    "    # f1 = f1_score(pred[data.test_mask].cpu(), data.y[data.test_mask].cpu(), average='macro') \n",
    "    print(f'Accuracy: {acc:.4f}') # ,f'F1_score: {f1:.4f}'\n",
    "\n",
    "torch.save(model.state_dict(), \"GCNCiteseer.pkl\")\n"
   ]
  },
  {
   "cell_type": "code",
   "execution_count": null,
   "metadata": {},
   "outputs": [],
   "source": [
    "# y_test = label_binarize(data.y[data.test_mask].cpu(),classes=[0,1,2,3,4,5]) \n",
    "# y_score = pred1[data.test_mask].cpu().detach().numpy()\n",
    "# n_classes = y_test.shape[1]\n",
    "# print(n_classes)\n",
    "# fpr = dict()\n",
    "# tpr = dict()\n",
    "# roc_auc = dict()\n",
    "# for i in range(n_classes):\n",
    "#     fpr[i],tpr[i],_ = roc_curve(y_test[:,i],y_score[:,i])\n",
    "#     roc_auc[i] = auc(fpr[i],tpr[i])\n",
    "\n",
    "# fpr['micro'],tpr['micro'],_ = roc_curve(y_test.ravel(),y_score.ravel())\n",
    "# roc_auc['micro'] = auc(fpr['micro'],tpr['micro'])\n",
    "# all_fpr = np.unique(np.concatenate([fpr[i] for i in range(n_classes)]))\n",
    "# mean_tpr = np.zeros_like(all_fpr)\n",
    "# for i in range(n_classes):\n",
    "#     mean_tpr += np.interp(all_fpr, fpr[i], tpr[i])\n",
    "# mean_tpr /= n_classes\n",
    "# fpr[\"macro\"] = all_fpr\n",
    "# tpr[\"macro\"] = mean_tpr\n",
    "# roc_auc[\"macro\"] = auc(fpr[\"macro\"], tpr[\"macro\"])\n",
    "# lw=2\n",
    "# plt.figure()\n",
    "# plt.plot(fpr[\"micro\"], tpr[\"micro\"],\n",
    "#          label='micro-average ROC curve (area = {0:0.2f})'\n",
    "#                ''.format(roc_auc[\"micro\"]),\n",
    "#          color='navy', linestyle=':', linewidth=4)\n",
    "\n",
    "# plt.plot(fpr[\"macro\"], tpr[\"macro\"],\n",
    "#          label='macro-average ROC curve (area = {0:0.2f})'\n",
    "#                ''.format(roc_auc[\"macro\"]),\n",
    "#          color='deeppink', linestyle=':', linewidth=4)\n",
    "\n",
    "# colors = ['lightcoral', 'pink', 'orange', 'lightgreen', 'lightskyblue', 'gold', 'thistle']\n",
    "# for i, color in zip(range(n_classes), colors):\n",
    "#     plt.plot(fpr[i], tpr[i], color=color, lw=lw,\n",
    "#              label='ROC curve of class {0} (area = {1:0.2f})'\n",
    "#              ''.format(i, roc_auc[i]))\n",
    "\n",
    "# plt.plot([0, 1], [0, 1], 'k--', lw=lw)\n",
    "# plt.xlim([0.0, 1.0])\n",
    "# plt.ylim([0.0, 1.05])\n",
    "# plt.xlabel('False Positive Rate')\n",
    "# plt.ylabel('True Positive Rate')\n",
    "# plt.title('Some extension of Receiver operating characteristic to multi-class')\n",
    "# plt.legend(loc=\"lower right\")\n",
    "# plt.show()\n",
    "\n",
    "# model's state_dict\n",
    "#print(\"Model's state_dict:\")\n",
    "#for param_tensor in model.state_dict():\n",
    "#    print(param_tensor, \"\\t\", model.state_dict()[param_tensor].size())\n",
    "\n",
    "# optimizer's state_dict\n",
    "#print(\"Optimizer's state_dict:\")\n",
    "#for var_name in optimizer.state_dict():\n",
    "#    print(var_name, \"\\t\", optimizer.state_dict()[var_name])\n",
    "\n"
   ]
  }
 ],
 "metadata": {
  "kernelspec": {
   "display_name": ".venv",
   "language": "python",
   "name": "python3"
  },
  "language_info": {
   "codemirror_mode": {
    "name": "ipython",
    "version": 3
   },
   "file_extension": ".py",
   "mimetype": "text/x-python",
   "name": "python",
   "nbconvert_exporter": "python",
   "pygments_lexer": "ipython3",
   "version": "3.12.3"
  }
 },
 "nbformat": 4,
 "nbformat_minor": 2
}
