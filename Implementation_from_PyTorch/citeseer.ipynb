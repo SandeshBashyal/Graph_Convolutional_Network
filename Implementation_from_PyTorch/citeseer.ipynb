{
 "cells": [
  {
   "cell_type": "code",
   "execution_count": 26,
   "metadata": {},
   "outputs": [],
   "source": [
    "import torch\n",
    "import torch_geometric\n"
   ]
  },
  {
   "cell_type": "markdown",
   "metadata": {},
   "source": [
    "## Loading Dataset"
   ]
  },
  {
   "cell_type": "code",
   "execution_count": 27,
   "metadata": {},
   "outputs": [],
   "source": [
    "from torch_geometric.datasets import Planetoid\n",
    "\n",
    "dataset = Planetoid(root = 'Citeseer', name = 'Citeseer')"
   ]
  },
  {
   "cell_type": "code",
   "execution_count": 28,
   "metadata": {},
   "outputs": [
    {
     "name": "stdout",
     "output_type": "stream",
     "text": [
      "Data(x=[3327, 3703], edge_index=[2, 9104], y=[3327], train_mask=[3327], val_mask=[3327], test_mask=[3327])\n"
     ]
    }
   ],
   "source": [
    "data = dataset[0]\n",
    "print(data)"
   ]
  },
  {
   "cell_type": "markdown",
   "metadata": {},
   "source": [
    "train mask is a binary mask (a tensor or array of True/False or 1/0 values) that indicates which nodes in the graph should be used during training."
   ]
  },
  {
   "cell_type": "code",
   "execution_count": 29,
   "metadata": {},
   "outputs": [
    {
     "name": "stdout",
     "output_type": "stream",
     "text": [
      "Number of nodes: 3327\n",
      "Size of labels: 3327\n",
      "Number of classes: 6\n"
     ]
    }
   ],
   "source": [
    "print(f\"Number of nodes: {data.num_nodes}\")\n",
    "print(f\"Size of labels: {data.y.size(0)}\")\n",
    "print(f\"Number of classes: {dataset.num_classes}\")\n"
   ]
  },
  {
   "cell_type": "code",
   "execution_count": 30,
   "metadata": {},
   "outputs": [
    {
     "data": {
      "text/plain": [
       "tensor([0, 1, 2, 3, 4, 5])"
      ]
     },
     "execution_count": 30,
     "metadata": {},
     "output_type": "execute_result"
    }
   ],
   "source": [
    "data.y.unique()"
   ]
  },
  {
   "cell_type": "markdown",
   "metadata": {},
   "source": [
    "## EDA"
   ]
  },
  {
   "cell_type": "code",
   "execution_count": null,
   "metadata": {},
   "outputs": [],
   "source": [
    "import networkx as nx\n",
    "import matplotlib.pyplot as plt\n",
    "def visualize_graph(edge_index, labels, num_nodes):\n",
    "    G = nx.Graph()\n",
    "    edge_list = edge_index.t().tolist()  \n",
    "    G.add_edges_from(edge_list)\n",
    "    G.add_nodes_from(range(num_nodes)) \n",
    "\n",
    "    # Ensure labels match number of nodes\n",
    "    labels = labels[:num_nodes]  # Truncate extra labels if necessary\n",
    "\n",
    "    # Generate positions for the graph\n",
    "    pos = nx.spring_layout(G, seed=42)  # Use spring layout for visualization\n",
    "\n",
    "    plt.figure(figsize=(12, 8))\n",
    "    nx.draw(\n",
    "        G,\n",
    "        pos,\n",
    "        with_labels=False,\n",
    "        node_color=labels,\n",
    "        cmap=plt.cm.rainbow,\n",
    "        node_size=50,\n",
    "    )\n",
    "    plt.title(\"Citeseer Graph Structure\")\n",
    "    plt.show()\n",
    "\n",
    "# Call the function\n",
    "visualize_graph(data.edge_index, data.y.numpy(), data.num_nodes)\n"
   ]
  },
  {
   "cell_type": "code",
   "execution_count": 31,
   "metadata": {},
   "outputs": [
    {
     "name": "stdout",
     "output_type": "stream",
     "text": [
      "tensor([[ 628,  158,  486,  ..., 2820, 1643,   33],\n",
      "        [   0,    1,    1,  ..., 3324, 3325, 3326]])\n"
     ]
    }
   ],
   "source": [
    "print(data.edge_index)"
   ]
  },
  {
   "cell_type": "markdown",
   "metadata": {},
   "source": [
    "## Model Training"
   ]
  },
  {
   "cell_type": "markdown",
   "metadata": {},
   "source": [
    "\n",
    "$$\n",
    "H^{(l+1)} = \\sigma\\left(\\widehat{A} H^{(l)} W^{(l)}\\right)\n",
    "$$"
   ]
  },
  {
   "cell_type": "markdown",
   "metadata": {},
   "source": [
    "$$\n",
    "\\widehat{A} = \\widetilde{D}^{-1/2} \\widetilde{A} \\widetilde{D}^{-1/2} \n",
    "$$"
   ]
  },
  {
   "cell_type": "code",
   "execution_count": 32,
   "metadata": {},
   "outputs": [],
   "source": [
    "class GCNLayer(torch.nn.Module):\n",
    "    def __init__(self, in_features, out_features):\n",
    "        super(GCNLayer, self).__init__()\n",
    "        self.linear = torch.nn.Linear(in_features, out_features)\n",
    "\n",
    "    def forward(self, x, edge_index):\n",
    "        row, col = edge_index\n",
    "        deg = torch.bincount(row, minlength=x.size(0))\n",
    "        deg_inv_sqrt = deg.pow(-0.5)\n",
    "        deg_inv_sqrt[deg_inv_sqrt == float('inf')] = 0\n",
    "        norm = deg_inv_sqrt[row] * deg_inv_sqrt[col]\n",
    "\n",
    "        out = torch.zeros_like(x)\n",
    "        out.index_add_(0, row, x[col] * norm.unsqueeze(-1))\n",
    "\n",
    "        # # Debug intermediate output\n",
    "        # print(f\"Intermediate output (after aggregation): {out.shape}\") \n",
    "\n",
    "        # # Apply linear transformation\n",
    "        out = self.linear(out) \n",
    "        # print(f\"Output after linear transformation: {out.shape}\n",
    "\n",
    "        return out\n"
   ]
  },
  {
   "cell_type": "code",
   "execution_count": 33,
   "metadata": {},
   "outputs": [],
   "source": [
    "class GCN(torch.nn.Module):\n",
    "    def __init__(self, in_features, hidden_features, out_features):\n",
    "        super(GCN, self).__init__()\n",
    "        self.gcn1 = GCNLayer(in_features, hidden_features)\n",
    "        self.gcn2 = GCNLayer(hidden_features, out_features)\n",
    "        self.relu = torch.nn.ReLU()\n",
    "        self.softmax = torch.nn.LogSoftmax(dim=1)\n",
    "\n",
    "    def forward(self, x, edge_index):\n",
    "        x = self.gcn1(x, edge_index)\n",
    "        x = self.relu(x)\n",
    "        x = torch.nn.functional.dropout(x, training= self.training)\n",
    "        x = self.gcn2(x, edge_index)\n",
    "        return self.softmax(x)\n"
   ]
  },
  {
   "cell_type": "code",
   "execution_count": 34,
   "metadata": {},
   "outputs": [],
   "source": [
    "def train(model, data, optimizer, criterion, train_mask):\n",
    "    model.train()\n",
    "    optimizer.zero_grad()\n",
    "    out = model(data.x, data.edge_index)\n",
    "    loss = criterion(out[train_mask], data.y[train_mask])\n",
    "    loss.backward()\n",
    "    optimizer.step()\n",
    "    return loss.item()\n",
    "\n",
    "def test(model, data, mask):\n",
    "    model.eval()\n",
    "    with torch.no_grad():\n",
    "        pred = model(data.x, data.edge_index).argmax(dim=1)\n",
    "        correct = (pred[mask] == data.y[mask]).sum()\n",
    "        acc = int(correct) / int(mask.sum())\n",
    "    return acc\n"
   ]
  },
  {
   "cell_type": "code",
   "execution_count": 35,
   "metadata": {},
   "outputs": [],
   "source": [
    "device = torch.device('cuda' if torch.cuda.is_available() else 'cpu')\n",
    "model = GCN(in_features=data.num_features, hidden_features=16, out_features=dataset.num_classes).to(device)\n",
    "data = data.to(device)\n",
    "\n",
    "optimizer = torch.optim.Adam(model.parameters(), lr=0.01)\n",
    "criterion = torch.nn.NLLLoss()"
   ]
  },
  {
   "cell_type": "code",
   "execution_count": 36,
   "metadata": {},
   "outputs": [
    {
     "name": "stdout",
     "output_type": "stream",
     "text": [
      "Epoch 1, Loss: 1.7976, Train Acc: 0.4667, Val Acc: 0.1480\n",
      "Epoch 2, Loss: 1.7105, Train Acc: 0.8167, Val Acc: 0.4700\n",
      "Epoch 3, Loss: 1.5617, Train Acc: 0.9333, Val Acc: 0.5880\n",
      "Epoch 4, Loss: 1.4159, Train Acc: 0.9583, Val Acc: 0.6160\n",
      "Epoch 5, Loss: 1.2513, Train Acc: 0.9583, Val Acc: 0.6080\n",
      "Epoch 6, Loss: 1.1661, Train Acc: 0.9667, Val Acc: 0.6000\n",
      "Epoch 7, Loss: 1.0377, Train Acc: 0.9667, Val Acc: 0.6200\n",
      "Epoch 8, Loss: 0.9195, Train Acc: 0.9750, Val Acc: 0.6380\n",
      "Epoch 9, Loss: 0.7658, Train Acc: 0.9750, Val Acc: 0.6520\n",
      "Epoch 10, Loss: 0.6638, Train Acc: 0.9750, Val Acc: 0.6620\n",
      "Epoch 11, Loss: 0.5854, Train Acc: 0.9750, Val Acc: 0.6740\n",
      "Epoch 12, Loss: 0.4582, Train Acc: 0.9833, Val Acc: 0.6740\n",
      "Epoch 13, Loss: 0.4640, Train Acc: 0.9917, Val Acc: 0.6740\n",
      "Epoch 14, Loss: 0.3727, Train Acc: 0.9917, Val Acc: 0.6680\n",
      "Epoch 15, Loss: 0.2572, Train Acc: 0.9917, Val Acc: 0.6620\n",
      "Epoch 16, Loss: 0.3034, Train Acc: 0.9917, Val Acc: 0.6620\n",
      "Epoch 17, Loss: 0.2786, Train Acc: 0.9917, Val Acc: 0.6640\n",
      "Epoch 18, Loss: 0.2241, Train Acc: 1.0000, Val Acc: 0.6540\n",
      "Epoch 19, Loss: 0.2617, Train Acc: 1.0000, Val Acc: 0.6560\n",
      "Epoch 20, Loss: 0.1676, Train Acc: 1.0000, Val Acc: 0.6500\n",
      "Epoch 21, Loss: 0.1691, Train Acc: 1.0000, Val Acc: 0.6500\n",
      "Epoch 22, Loss: 0.1500, Train Acc: 1.0000, Val Acc: 0.6420\n",
      "Epoch 23, Loss: 0.1794, Train Acc: 1.0000, Val Acc: 0.6420\n",
      "Epoch 24, Loss: 0.1537, Train Acc: 1.0000, Val Acc: 0.6400\n",
      "Epoch 25, Loss: 0.1468, Train Acc: 1.0000, Val Acc: 0.6420\n",
      "Epoch 26, Loss: 0.1031, Train Acc: 1.0000, Val Acc: 0.6400\n",
      "Epoch 27, Loss: 0.0880, Train Acc: 1.0000, Val Acc: 0.6380\n",
      "Epoch 28, Loss: 0.1404, Train Acc: 1.0000, Val Acc: 0.6360\n",
      "Epoch 29, Loss: 0.1499, Train Acc: 1.0000, Val Acc: 0.6380\n",
      "Epoch 30, Loss: 0.0848, Train Acc: 1.0000, Val Acc: 0.6400\n",
      "Epoch 31, Loss: 0.0547, Train Acc: 1.0000, Val Acc: 0.6420\n",
      "Epoch 32, Loss: 0.1001, Train Acc: 1.0000, Val Acc: 0.6420\n",
      "Epoch 33, Loss: 0.1080, Train Acc: 1.0000, Val Acc: 0.6440\n",
      "Epoch 34, Loss: 0.1174, Train Acc: 1.0000, Val Acc: 0.6480\n",
      "Epoch 35, Loss: 0.0754, Train Acc: 1.0000, Val Acc: 0.6460\n",
      "Epoch 36, Loss: 0.0839, Train Acc: 1.0000, Val Acc: 0.6460\n",
      "Epoch 37, Loss: 0.0716, Train Acc: 1.0000, Val Acc: 0.6480\n",
      "Epoch 38, Loss: 0.0910, Train Acc: 1.0000, Val Acc: 0.6460\n",
      "Epoch 39, Loss: 0.0945, Train Acc: 1.0000, Val Acc: 0.6440\n",
      "Epoch 40, Loss: 0.0618, Train Acc: 1.0000, Val Acc: 0.6500\n",
      "Epoch 41, Loss: 0.0610, Train Acc: 1.0000, Val Acc: 0.6440\n",
      "Epoch 42, Loss: 0.0679, Train Acc: 1.0000, Val Acc: 0.6420\n",
      "Epoch 43, Loss: 0.0623, Train Acc: 1.0000, Val Acc: 0.6420\n",
      "Epoch 44, Loss: 0.0801, Train Acc: 1.0000, Val Acc: 0.6420\n",
      "Epoch 45, Loss: 0.0919, Train Acc: 1.0000, Val Acc: 0.6320\n",
      "Epoch 46, Loss: 0.0618, Train Acc: 1.0000, Val Acc: 0.6300\n",
      "Epoch 47, Loss: 0.1052, Train Acc: 1.0000, Val Acc: 0.6280\n",
      "Epoch 48, Loss: 0.0514, Train Acc: 1.0000, Val Acc: 0.6260\n",
      "Epoch 49, Loss: 0.0818, Train Acc: 1.0000, Val Acc: 0.6300\n",
      "Epoch 50, Loss: 0.1172, Train Acc: 1.0000, Val Acc: 0.6300\n",
      "Epoch 51, Loss: 0.0335, Train Acc: 1.0000, Val Acc: 0.6300\n",
      "Epoch 52, Loss: 0.0536, Train Acc: 1.0000, Val Acc: 0.6300\n",
      "Epoch 53, Loss: 0.0621, Train Acc: 1.0000, Val Acc: 0.6260\n",
      "Epoch 54, Loss: 0.0639, Train Acc: 1.0000, Val Acc: 0.6260\n",
      "Epoch 55, Loss: 0.0627, Train Acc: 1.0000, Val Acc: 0.6300\n",
      "Epoch 56, Loss: 0.0687, Train Acc: 1.0000, Val Acc: 0.6360\n",
      "Epoch 57, Loss: 0.0865, Train Acc: 1.0000, Val Acc: 0.6400\n",
      "Epoch 58, Loss: 0.0705, Train Acc: 1.0000, Val Acc: 0.6460\n",
      "Epoch 59, Loss: 0.0573, Train Acc: 1.0000, Val Acc: 0.6480\n",
      "Epoch 60, Loss: 0.0656, Train Acc: 1.0000, Val Acc: 0.6480\n",
      "Epoch 61, Loss: 0.0640, Train Acc: 1.0000, Val Acc: 0.6480\n",
      "Epoch 62, Loss: 0.0428, Train Acc: 1.0000, Val Acc: 0.6480\n",
      "Epoch 63, Loss: 0.1256, Train Acc: 1.0000, Val Acc: 0.6480\n",
      "Epoch 64, Loss: 0.0452, Train Acc: 1.0000, Val Acc: 0.6500\n",
      "Epoch 65, Loss: 0.0272, Train Acc: 1.0000, Val Acc: 0.6480\n",
      "Epoch 66, Loss: 0.1147, Train Acc: 1.0000, Val Acc: 0.6480\n",
      "Epoch 67, Loss: 0.0892, Train Acc: 1.0000, Val Acc: 0.6480\n",
      "Epoch 68, Loss: 0.1067, Train Acc: 1.0000, Val Acc: 0.6480\n",
      "Epoch 69, Loss: 0.0369, Train Acc: 1.0000, Val Acc: 0.6460\n",
      "Epoch 70, Loss: 0.0768, Train Acc: 1.0000, Val Acc: 0.6480\n",
      "Epoch 71, Loss: 0.0628, Train Acc: 1.0000, Val Acc: 0.6480\n",
      "Epoch 72, Loss: 0.0595, Train Acc: 1.0000, Val Acc: 0.6480\n",
      "Epoch 73, Loss: 0.1087, Train Acc: 1.0000, Val Acc: 0.6480\n",
      "Epoch 74, Loss: 0.0456, Train Acc: 1.0000, Val Acc: 0.6460\n",
      "Epoch 75, Loss: 0.0577, Train Acc: 1.0000, Val Acc: 0.6460\n",
      "Epoch 76, Loss: 0.0855, Train Acc: 1.0000, Val Acc: 0.6440\n",
      "Epoch 77, Loss: 0.0339, Train Acc: 1.0000, Val Acc: 0.6420\n",
      "Epoch 78, Loss: 0.0890, Train Acc: 1.0000, Val Acc: 0.6440\n",
      "Epoch 79, Loss: 0.0675, Train Acc: 1.0000, Val Acc: 0.6400\n",
      "Epoch 80, Loss: 0.0415, Train Acc: 1.0000, Val Acc: 0.6400\n",
      "Epoch 81, Loss: 0.0483, Train Acc: 1.0000, Val Acc: 0.6380\n",
      "Epoch 82, Loss: 0.0703, Train Acc: 1.0000, Val Acc: 0.6360\n",
      "Epoch 83, Loss: 0.0652, Train Acc: 1.0000, Val Acc: 0.6360\n",
      "Epoch 84, Loss: 0.0733, Train Acc: 1.0000, Val Acc: 0.6340\n",
      "Epoch 85, Loss: 0.0680, Train Acc: 1.0000, Val Acc: 0.6320\n",
      "Epoch 86, Loss: 0.0696, Train Acc: 1.0000, Val Acc: 0.6300\n",
      "Epoch 87, Loss: 0.0523, Train Acc: 1.0000, Val Acc: 0.6300\n",
      "Epoch 88, Loss: 0.0389, Train Acc: 1.0000, Val Acc: 0.6260\n",
      "Epoch 89, Loss: 0.0401, Train Acc: 1.0000, Val Acc: 0.6300\n",
      "Epoch 90, Loss: 0.0433, Train Acc: 1.0000, Val Acc: 0.6300\n",
      "Epoch 91, Loss: 0.0376, Train Acc: 1.0000, Val Acc: 0.6280\n",
      "Epoch 92, Loss: 0.0266, Train Acc: 1.0000, Val Acc: 0.6280\n",
      "Epoch 93, Loss: 0.0273, Train Acc: 1.0000, Val Acc: 0.6340\n",
      "Epoch 94, Loss: 0.0745, Train Acc: 1.0000, Val Acc: 0.6340\n",
      "Epoch 95, Loss: 0.0833, Train Acc: 1.0000, Val Acc: 0.6320\n",
      "Epoch 96, Loss: 0.0244, Train Acc: 1.0000, Val Acc: 0.6300\n",
      "Epoch 97, Loss: 0.0606, Train Acc: 1.0000, Val Acc: 0.6320\n",
      "Epoch 98, Loss: 0.0767, Train Acc: 1.0000, Val Acc: 0.6360\n",
      "Epoch 99, Loss: 0.0398, Train Acc: 1.0000, Val Acc: 0.6380\n",
      "Epoch 100, Loss: 0.0636, Train Acc: 1.0000, Val Acc: 0.6380\n"
     ]
    }
   ],
   "source": [
    "for epoch in range(100):\n",
    "    loss = train(model, data, optimizer, criterion, data.train_mask)\n",
    "    train_acc = test(model, data, data.train_mask)\n",
    "    val_acc = test(model, data, data.val_mask)\n",
    "    print(f'Epoch {epoch+1}, Loss: {loss:.4f}, Train Acc: {train_acc:.4f}, Val Acc: {val_acc:.4f}')\n",
    "    # if val_acc > .6500:\n",
    "    #     break\n"
   ]
  },
  {
   "cell_type": "code",
   "execution_count": 37,
   "metadata": {},
   "outputs": [
    {
     "name": "stdout",
     "output_type": "stream",
     "text": [
      "Accuracy: 0.6180\n"
     ]
    }
   ],
   "source": [
    "model.eval()\n",
    "with torch.no_grad():\n",
    "    pred1 = model(data.x, data.edge_index)\n",
    "    pred = pred1.argmax(dim=1) \n",
    "    correct = (pred[data.test_mask] == data.y[data.test_mask]).sum() \n",
    "    acc = int(correct) / int(data.test_mask.sum())\n",
    "    # f1 = f1_score(pred[data.test_mask].cpu(), data.y[data.test_mask].cpu(), average='macro') \n",
    "    print(f'Accuracy: {acc:.4f}') # ,f'F1_score: {f1:.4f}'\n"
   ]
  },
  {
   "cell_type": "code",
   "execution_count": null,
   "metadata": {},
   "outputs": [],
   "source": [
    "def visualize_features(features, title=\"Node Features\"):\n",
    "    plt.figure(figsize=(12, 6))\n",
    "    plt.imshow(features, aspect='auto', cmap='coolwarm')\n",
    "    plt.colorbar()\n",
    "    plt.title(title)\n",
    "    plt.xlabel(\"Feature Dimension\")\n",
    "    plt.ylabel(\"Node Index\")\n",
    "    plt.show()\n",
    "\n",
    "# visualize_features(data.x.numpy(), title=\"Original Node Features\")\n",
    "\n",
    "# Forward pass visualization\n",
    "model = GCN(data.num_features, 16, dataset.num_classes)\n",
    "with torch.no_grad():\n",
    "    x = data.x\n",
    "    visualize_features(x.numpy(), title=\"Input Features to Layer 1\")\n",
    "    x = model.gcn1(x, data.edge_index)\n",
    "    visualize_features(x.numpy(), title=\"Output of GCN Layer 1\")\n",
    "    x = model.gcn2(x, data.edge_index)\n",
    "    visualize_features(x.numpy(), title=\"Output of GCN Layer 2\")\n"
   ]
  },
  {
   "cell_type": "code",
   "execution_count": null,
   "metadata": {},
   "outputs": [],
   "source": [
    "device = torch.device('cuda' if torch.cuda.is_available() else 'cpu')\n",
    "model = GCN(data.num_features, 16, dataset.num_classes).to(device)\n",
    "data = data.to(device)\n",
    "\n",
    "optimizer = torch.optim.Adam(model.parameters(), lr=0.01)\n",
    "criterion = torch.nn.NLLLoss()\n",
    "\n",
    "train_losses = []\n",
    "train_accuracies = []\n",
    "val_accuracies = []\n",
    "\n",
    "for epoch in range(100):\n",
    "    loss = train(model, data, optimizer, criterion, data.train_mask)\n",
    "    train_acc = test(model, data, data.train_mask)\n",
    "    val_acc = test(model, data, data.val_mask)\n",
    "\n",
    "    train_losses.append(loss)\n",
    "    train_accuracies.append(train_acc)\n",
    "    val_accuracies.append(val_acc)\n",
    "\n",
    "    print(f\"Epoch {epoch+1}, Loss: {loss:.4f}, Train Acc: {train_acc:.4f}, Val Acc: {val_acc:.4f}\")\n",
    "\n",
    "# Plot metrics\n",
    "plt.figure(figsize=(12, 6))\n",
    "plt.plot(train_losses, label=\"Train Loss\")\n",
    "plt.plot(train_accuracies, label=\"Train Accuracy\")\n",
    "plt.plot(val_accuracies, label=\"Validation Accuracy\")\n",
    "plt.xlabel(\"Epoch\")\n",
    "plt.ylabel(\"Value\")\n",
    "plt.title(\"Training and Validation Metrics\")\n",
    "plt.legend()\n",
    "plt.show()\n"
   ]
  },
  {
   "cell_type": "code",
   "execution_count": null,
   "metadata": {},
   "outputs": [],
   "source": [
    "def visualize_adjacency(edge_index, num_nodes):\n",
    "    \"\"\"\n",
    "    Visualizes the adjacency matrix of the graph.\n",
    "    \"\"\"\n",
    "    adj_matrix = torch.zeros((num_nodes, num_nodes))\n",
    "    adj_matrix[edge_index[0], edge_index[1]] = 1\n",
    "    adj_matrix += torch.eye(num_nodes)\n",
    "    plt.figure(figsize=(8, 8))\n",
    "    plt.imshow(adj_matrix.numpy(), cmap='Greys', interpolation='none')\n",
    "    plt.title(\"Adjacency Matrix\")\n",
    "    plt.colorbar(label=\"Edge Presence\")\n",
    "    plt.xlabel(\"Node\")\n",
    "    plt.ylabel(\"Node\")\n",
    "    plt.show()\n",
    "\n",
    "visualize_adjacency(data.edge_index, data.num_nodes)"
   ]
  },
  {
   "cell_type": "code",
   "execution_count": null,
   "metadata": {},
   "outputs": [],
   "source": [
    "from sklearn.decomposition import PCA\n",
    "from sklearn.manifold import TSNE\n",
    "\n",
    "def visualize_embeddings(embeddings, labels, method='PCA', title='Node Embeddings'):\n",
    "    \"\"\"\n",
    "    Visualize high-dimensional node embeddings using PCA or t-SNE.\n",
    "    \"\"\"\n",
    "    if method == 'PCA':\n",
    "        reducer = PCA(n_components=2)\n",
    "    elif method == 't-SNE':\n",
    "        reducer = TSNE(n_components=2, random_state=42)\n",
    "    else:\n",
    "        raise ValueError(\"Unsupported reduction method. Choose 'PCA' or 't-SNE'.\")\n",
    "\n",
    "    reduced_embeddings = reducer.fit_transform(embeddings)\n",
    "    plt.figure(figsize=(10, 8))\n",
    "    scatter = plt.scatter(\n",
    "        reduced_embeddings[:, 0], reduced_embeddings[:, 1], \n",
    "        c=labels, cmap=plt.cm.rainbow, s=15\n",
    "    )\n",
    "    plt.colorbar(scatter, label=\"Node Labels\")\n",
    "    plt.title(title)\n",
    "    plt.show()\n",
    "\n",
    "# Forward pass to get node embeddings\n",
    "model = GCN(data.num_features, 16, dataset.num_classes)\n",
    "with torch.no_grad():\n",
    "    embeddings1 = model.gcn1(data.x, data.edge_index)\n",
    "    visualize_embeddings(embeddings1.numpy(), data.y.numpy(), method='t-SNE')\n",
    "\n",
    "    embeddings2 = model.gcn2(embeddings1, data.edge_index)\n",
    "    visualize_embeddings(embeddings2.numpy(), data.y.numpy(), method='t-SNE')\n"
   ]
  },
  {
   "cell_type": "code",
   "execution_count": null,
   "metadata": {},
   "outputs": [],
   "source": [
    "def visualize_parameters(model):\n",
    "    for name, param in model.named_parameters():\n",
    "        if param.requires_grad:\n",
    "            plt.figure()\n",
    "            plt.hist(param.detach().cpu().numpy().flatten(), bins=50)\n",
    "            plt.title(f\"Distribution of {name}\")\n",
    "            plt.xlabel(\"Value\")\n",
    "            plt.ylabel(\"Frequency\")\n",
    "            plt.show()\n",
    "\n",
    "visualize_parameters(model)\n"
   ]
  },
  {
   "cell_type": "code",
   "execution_count": null,
   "metadata": {},
   "outputs": [],
   "source": [
    "# Save the trained model\n",
    "torch.save(model.state_dict(), \"gcn_model.pth\")\n",
    "print(\"Model saved to gcn_model.pth\")\n"
   ]
  },
  {
   "cell_type": "markdown",
   "metadata": {},
   "source": [
    "**Recreate the model architecture**\n",
    "\n",
    "model = GCN(data.num_features, 16, dataset.num_classes)\n",
    "\n",
    "model.load_state_dict(torch.load(\"gcn_model.pth\"))\n",
    "\n",
    "model.eval()  # Set the model to evaluation mode\n",
    "\n",
    "print(\"Model loaded from gcn_model.pth\")\n"
   ]
  }
 ],
 "metadata": {
  "kernelspec": {
   "display_name": ".venv",
   "language": "python",
   "name": "python3"
  },
  "language_info": {
   "codemirror_mode": {
    "name": "ipython",
    "version": 3
   },
   "file_extension": ".py",
   "mimetype": "text/x-python",
   "name": "python",
   "nbconvert_exporter": "python",
   "pygments_lexer": "ipython3",
   "version": "3.12.3"
  }
 },
 "nbformat": 4,
 "nbformat_minor": 2
}
